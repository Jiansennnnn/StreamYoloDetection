{
 "cells": [
  {
   "cell_type": "code",
   "execution_count": 2,
   "metadata": {},
   "outputs": [
    {
     "name": "stdout",
     "output_type": "stream",
     "text": [
      "<class 'numpy.ndarray'>\n"
     ]
    }
   ],
   "source": [
    "from toolkit import Capturer\n",
    "region = (3440 // 5 * 2, 1440 // 3, 3440 // 5, 1440 // 3)\n",
    "img = Capturer.backup(region)\n",
    "print(type(img))"
   ]
  },
  {
   "cell_type": "code",
   "execution_count": 10,
   "metadata": {},
   "outputs": [
    {
     "name": "stderr",
     "output_type": "stream",
     "text": [
      "YOLOv5  2023-7-12 Python-3.11.9 torch-2.3.0+cpu CPU\n",
      "\n"
     ]
    }
   ],
   "source": [
    "imgsz = (640, 640)\n",
    "from utils.augmentations import letterbox\n",
    "from utils.torch_utils import select_device, smart_inference_mode\n",
    "import numpy as np\n",
    "import torch\n",
    "device = ''\n",
    "device = select_device(device)\n",
    "img0 = img\n",
    "# t1 = time.perf_counter_ns()\n",
    "aims = []\n",
    "im = letterbox(img0, imgsz, stride=32)[0]\n",
    "\n",
    "im = im.transpose((2, 0, 1))[::-1]  # HWC to CHW, BGR to RGB\n",
    "im = np.ascontiguousarray(im)\n",
    "im = torch.from_numpy(im).to(device)\n",
    "#im = im.half() if self.model.fp16 else im.float()  # uint8 to fp16/32\n",
    "\n",
    "im = im.float()\n",
    "im /= 255  # 0 - 255 to 0.0 - 1.0\n",
    "if len(im.shape) == 3:\n",
    "    im = im[None]  # expand for batch dim\n",
    "## Inference\n",
    "## visualize = increment_path(save_dir / Path(path).stem, mkdir=True) if #visualize else False\n",
    "pred = self.model(im, augment=self.augment, visualize=self.visualize)\n",
    "#pred = non_max_suppression(pred, self.conf_thres, self.iou_thres, self.classes, #self.agnostic_nms, max_det=self.max_det)\n",
    "#det = pred[0]\n",
    "#annotator = None"
   ]
  }
 ],
 "metadata": {
  "kernelspec": {
   "display_name": "Python 3",
   "language": "python",
   "name": "python3"
  },
  "language_info": {
   "codemirror_mode": {
    "name": "ipython",
    "version": 3
   },
   "file_extension": ".py",
   "mimetype": "text/x-python",
   "name": "python",
   "nbconvert_exporter": "python",
   "pygments_lexer": "ipython3",
   "version": "3.11.9"
  }
 },
 "nbformat": 4,
 "nbformat_minor": 2
}
